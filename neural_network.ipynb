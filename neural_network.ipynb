{
 "cells": [
  {
   "cell_type": "markdown",
   "metadata": {
    "id": "yaVjteBUmiAY"
   },
   "source": [
    "# Objective"
   ]
  },
  {
   "cell_type": "code",
   "execution_count": 1,
   "metadata": {},
   "outputs": [],
   "source": [
    "# CNNs w SIFT instead of pooling: \n",
    "# https://arxiv.org/ftp/arxiv/papers/1904/1904.00197.pdf\n",
    "\n",
    "# SIFT Descriptor implementation in PyTorch:\n",
    "# https://github.com/ducha-aiki/pytorch-sift"
   ]
  },
  {
   "cell_type": "markdown",
   "metadata": {},
   "source": [
    "#### Google Colab Helpers"
   ]
  },
  {
   "cell_type": "code",
   "execution_count": 2,
   "metadata": {
    "colab": {
     "base_uri": "https://localhost:8080/"
    },
    "executionInfo": {
     "elapsed": 24451,
     "status": "ok",
     "timestamp": 1646100712739,
     "user": {
      "displayName": "James Soole",
      "photoUrl": "https://lh3.googleusercontent.com/a/default-user=s64",
      "userId": "17919864173535766160"
     },
     "user_tz": 360
    },
    "id": "hwQ5igE6kqOm",
    "outputId": "b0603913-8926-4f6b-ca2c-0e60668202b9"
   },
   "outputs": [],
   "source": [
    "# from google.colab import drive\n",
    "# drive.mount(\"/content/gdrive\")\n",
    "# # drive.mount(\"/content/gdrive\", force_remount=True)"
   ]
  },
  {
   "cell_type": "code",
   "execution_count": 3,
   "metadata": {
    "executionInfo": {
     "elapsed": 183,
     "status": "ok",
     "timestamp": 1646100716489,
     "user": {
      "displayName": "James Soole",
      "photoUrl": "https://lh3.googleusercontent.com/a/default-user=s64",
      "userId": "17919864173535766160"
     },
     "user_tz": 360
    },
    "id": "xxYgEfXalWVq"
   },
   "outputs": [],
   "source": [
    "# import os\n",
    "# os.chdir(\"/content/gdrive/My Drive/...pathtocode\")"
   ]
  },
  {
   "cell_type": "code",
   "execution_count": 4,
   "metadata": {
    "id": "fBsYfk_6rVWm"
   },
   "outputs": [],
   "source": [
    "# import torch\n",
    "# a = torch.Tensor([1]).cuda()\n",
    "# print(a)"
   ]
  },
  {
   "cell_type": "markdown",
   "metadata": {
    "id": "ZyXqWPHumiAh"
   },
   "source": [
    "## Load Fashion-MNIST and Net"
   ]
  },
  {
   "cell_type": "code",
   "execution_count": 5,
   "metadata": {},
   "outputs": [],
   "source": [
    "import matplotlib.pyplot as plt\n",
    "import numpy as np\n",
    "import torch\n",
    "import time\n",
    "import copy"
   ]
  },
  {
   "cell_type": "code",
   "execution_count": 6,
   "metadata": {
    "executionInfo": {
     "elapsed": 4353,
     "status": "ok",
     "timestamp": 1646100727556,
     "user": {
      "displayName": "James Soole",
      "photoUrl": "https://lh3.googleusercontent.com/a/default-user=s64",
      "userId": "17919864173535766160"
     },
     "user_tz": 360
    },
    "id": "ad1wYfGRmiAf"
   },
   "outputs": [],
   "source": [
    "from utils.data_process import get_FASHION_data\n",
    "\n",
    "TRAIN_IMAGES = 50000\n",
    "VAL_IMAGES = 10000\n",
    "TEST_IMAGES = 10000\n",
    "\n",
    "data = get_FASHION_data(TRAIN_IMAGES, VAL_IMAGES, TEST_IMAGES)\n",
    "X_train, y_train = data['X_train'], data['y_train']\n",
    "X_val, y_val = data['X_val'], data['y_val']\n",
    "X_test, y_test = data['X_test'], data['y_test']\n",
    "\n",
    "\n",
    "%matplotlib inline\n",
    "plt.rcParams['figure.figsize'] = (10.0, 8.0)  # set default size of plots\n",
    "\n",
    "\n",
    "# For auto-reloading external modules\n",
    "# See http://stackoverflow.com/questions/1907993/autoreload-of-modules-in-ipython\n",
    "%load_ext autoreload\n",
    "%autoreload 2"
   ]
  },
  {
   "cell_type": "code",
   "execution_count": 7,
   "metadata": {},
   "outputs": [],
   "source": [
    "# from models.neural_net_simple import NeuralNet\n",
    "\n",
    "# from models.neural_net_traditional import NeuralNet\n",
    "from models.neural_net_sift import NeuralNet"
   ]
  },
  {
   "cell_type": "markdown",
   "metadata": {
    "id": "huScowMTmiAj"
   },
   "source": [
    "## Init Net and Train"
   ]
  },
  {
   "cell_type": "code",
   "execution_count": 8,
   "metadata": {},
   "outputs": [
    {
     "data": {
      "text/plain": [
       "<torch.utils.hooks.RemovableHandle at 0x7f63d77a4fa0>"
      ]
     },
     "execution_count": 8,
     "metadata": {},
     "output_type": "execute_result"
    }
   ],
   "source": [
    "# Hyperparameters\n",
    "input_size = 28 * 28\n",
    "num_classes = 10\n",
    "epochs = 40 # 10 # 2 # 40 # 15 # 5\n",
    "batch_size = 200\n",
    "learning_rate = 0.001\n",
    "\n",
    "# Initialize a new neural network model\n",
    "net = NeuralNet(learning_rate,input_size,num_classes)\n",
    "\n",
    "\n",
    "# # extract output of layers\n",
    "# https://discuss.pytorch.org/t/how-can-i-extract-intermediate-layer-output-from-loaded-cnn-model/77301/3\n",
    "# https://discuss.pytorch.org/t/how-can-l-load-my-best-model-as-a-feature-extractor-evaluator/17254/6\n",
    "    \n",
    "activation = {}\n",
    "def get_activation(name):\n",
    "    def hook(net, input, output):\n",
    "        activation[name] = output.detach()\n",
    "    return hook\n",
    "\n",
    "# net.layers[2].register_forward_hook(get_activation('pre_fc')) # for net_simple\n",
    "\n",
    "net.layers[3].register_forward_hook(get_activation('pre_fc')) # for net_trad\n",
    "# net.layers[3].register_forward_hook(get_activation('pre_fc')) # for net_sift\n"
   ]
  },
  {
   "cell_type": "code",
   "execution_count": 9,
   "metadata": {
    "executionInfo": {
     "elapsed": 219,
     "status": "ok",
     "timestamp": 1646114705673,
     "user": {
      "displayName": "James Soole",
      "photoUrl": "https://lh3.googleusercontent.com/a/default-user=s64",
      "userId": "17919864173535766160"
     },
     "user_tz": 360
    },
    "id": "EgF_hn2jmiAk",
    "scrolled": true
   },
   "outputs": [
    {
     "name": "stdout",
     "output_type": "stream",
     "text": [
      "Running  40  epochs\n",
      "Curr Time: 0.0006048679351806641\n",
      "epoch: 0\n",
      "Curr Time: 32.1670880317688\n",
      "epoch: 1\n"
     ]
    },
    {
     "name": "stderr",
     "output_type": "stream",
     "text": [
      "<ipython-input-9-ac3caf2e224a>:63: UserWarning: To copy construct from a tensor, it is recommended to use sourceTensor.clone().detach() or sourceTensor.clone().detach().requires_grad_(True), rather than torch.tensor(sourceTensor).\n",
      "  X_val = torch.tensor(X_val, dtype=torch.float32)\n"
     ]
    },
    {
     "name": "stdout",
     "output_type": "stream",
     "text": [
      "Curr Time: 67.20513606071472\n",
      "epoch: 2\n",
      "Curr Time: 106.80366110801697\n",
      "epoch: 3\n",
      "Curr Time: 144.50802612304688\n",
      "epoch: 4\n",
      "Curr Time: 182.98206090927124\n",
      "epoch: 5\n",
      "Curr Time: 217.80636143684387\n",
      "epoch: 6\n",
      "Curr Time: 253.46614360809326\n",
      "epoch: 7\n",
      "Curr Time: 286.53165769577026\n",
      "epoch: 8\n",
      "Curr Time: 318.5138256549835\n",
      "epoch: 9\n",
      "Curr Time: 353.7829120159149\n",
      "epoch: 10\n",
      "Curr Time: 389.44938802719116\n",
      "epoch: 11\n",
      "Curr Time: 421.9308247566223\n",
      "epoch: 12\n",
      "Curr Time: 456.0281457901001\n",
      "epoch: 13\n",
      "Curr Time: 491.3644425868988\n",
      "epoch: 14\n",
      "Curr Time: 527.2123837471008\n",
      "epoch: 15\n",
      "Curr Time: 562.4946496486664\n",
      "epoch: 16\n",
      "Curr Time: 598.5365686416626\n",
      "epoch: 17\n",
      "Curr Time: 630.9285936355591\n",
      "epoch: 18\n",
      "Curr Time: 668.36745429039\n",
      "epoch: 19\n",
      "Curr Time: 701.5547630786896\n",
      "epoch: 20\n",
      "Curr Time: 735.5282847881317\n",
      "epoch: 21\n",
      "Curr Time: 771.5354619026184\n",
      "epoch: 22\n",
      "Curr Time: 808.7289614677429\n",
      "epoch: 23\n",
      "Curr Time: 840.4806728363037\n",
      "epoch: 24\n",
      "Curr Time: 871.7040724754333\n",
      "epoch: 25\n",
      "Curr Time: 903.9849410057068\n",
      "epoch: 26\n",
      "Curr Time: 939.5775380134583\n",
      "epoch: 27\n",
      "Curr Time: 973.557094335556\n",
      "epoch: 28\n",
      "Curr Time: 1008.9639620780945\n",
      "epoch: 29\n",
      "Curr Time: 1041.7234785556793\n",
      "epoch: 30\n",
      "Curr Time: 1076.88086271286\n",
      "epoch: 31\n",
      "Curr Time: 1113.2069690227509\n",
      "epoch: 32\n",
      "Curr Time: 1149.0219376087189\n",
      "epoch: 33\n",
      "Curr Time: 1184.0534055233002\n",
      "epoch: 34\n",
      "Curr Time: 1220.3274476528168\n",
      "epoch: 35\n",
      "Curr Time: 1258.4908332824707\n",
      "epoch: 36\n",
      "Curr Time: 1292.928805589676\n",
      "epoch: 37\n",
      "Curr Time: 1327.8084754943848\n",
      "epoch: 38\n",
      "Curr Time: 1365.142879486084\n",
      "epoch: 39\n",
      "Done. Time: 1400.6349511146545\n"
     ]
    }
   ],
   "source": [
    "TRAIN_IMAGES = 50000\n",
    "VAL_IMAGES = 10000\n",
    "TEST_IMAGES = 10000\n",
    "\n",
    "data = get_FASHION_data(TRAIN_IMAGES, VAL_IMAGES, TEST_IMAGES)\n",
    "X_train, y_train = data['X_train'], data['y_train']\n",
    "X_val, y_val = data['X_val'], data['y_val']\n",
    "X_test, y_test = data['X_test'], data['y_test']\n",
    "\n",
    "# X_train = torch.tensor(X_train, dtype=torch.float32)\n",
    "# y_train = torch.tensor(y_train, dtype=torch.float32)\n",
    "# X_val = torch.tensor(X_val, dtype=torch.float32)\n",
    "# y_val = torch.tensor(y_val, dtype=torch.float32)\n",
    "X_test = torch.tensor(X_test, dtype=torch.float32)\n",
    "# y_test = torch.tensor(y_test, dtype=torch.float32)\n",
    "\n",
    "\n",
    "# Variables to store performance for each epoch\n",
    "train_loss = np.zeros(epochs)\n",
    "train_accuracy = np.zeros(epochs)\n",
    "val_accuracy = np.zeros(epochs)\n",
    "\n",
    "start_time = time.time()\n",
    "print('Running ',epochs,' epochs')\n",
    "\n",
    "for epoch in range(epochs):\n",
    "    print('Curr Time:',time.time()-start_time)    \n",
    "    print('epoch:', epoch)\n",
    "\n",
    "    # Shuffle the dataset\n",
    "    # data[['X','y']].sample(frac = 1)\n",
    "    perm = np.random.permutation(X_train.shape[0])\n",
    "    np.take(X_train,perm,axis=0,out=X_train)\n",
    "    np.take(y_train,perm,axis=0,out=y_train)\n",
    "    \n",
    "    # Training\n",
    "    # For each mini-batch...\n",
    "    for batch in range(TRAIN_IMAGES // batch_size):\n",
    "#         if batch%10==0: print('batch_num:',batch)\n",
    "        # Create a mini-batch of training data and labels\n",
    "        X_batch = X_train[batch*batch_size : batch*batch_size + batch_size, :]\n",
    "        y_batch = y_train[batch*batch_size : batch*batch_size + batch_size]\n",
    "        \n",
    "        X_batch = torch.tensor(X_batch, dtype=torch.float32)\n",
    "        y_batch = torch.tensor(y_batch, dtype=torch.float32)\n",
    "\n",
    "        # Run the forward pass of the model to get a prediction and compute the accuracy\n",
    "        forward_out = net.forward(X_batch).detach().numpy()\n",
    "        pred_labels = np.argmax(forward_out,axis=1)\n",
    "        train_accuracy[epoch] += sum(pred_labels == np.asarray(y_batch)) / batch_size\n",
    "\n",
    "        # Run the backward pass of the model to compute the loss, and update the weights\n",
    "        y_batch_for_L = y_batch.type(torch.LongTensor)\n",
    "        loss = net.backward(X_batch,y_batch_for_L)\n",
    "        train_loss[epoch] += loss\n",
    "\n",
    "    # normalize\n",
    "    train_accuracy[epoch] /= (TRAIN_IMAGES // batch_size)\n",
    "    train_loss[epoch] /= (TRAIN_IMAGES // batch_size)\n",
    "\n",
    "    # Validation\n",
    "    # No need to run the backward pass here, just run the forward pass to compute accuracy\n",
    "    X_val = torch.tensor(X_val, dtype=torch.float32)\n",
    "    val_forward_out = net.forward(X_val).detach().numpy()\n",
    "    val_pred_labels = np.argmax(val_forward_out,axis=1)\n",
    "    val_accuracy[epoch] += sum(val_pred_labels == np.asarray(y_val)) / len(y_val)\n",
    "        \n",
    "\n",
    "print('Done. Time:',time.time()-start_time)"
   ]
  },
  {
   "cell_type": "code",
   "execution_count": 10,
   "metadata": {},
   "outputs": [],
   "source": [
    "# torch.save(net.state_dict(), 'trad_15epoch.pth')\n",
    "# torch.save(net.state_dict(), 'sift_5epoch.pth')"
   ]
  },
  {
   "cell_type": "code",
   "execution_count": 11,
   "metadata": {},
   "outputs": [],
   "source": [
    "# model.load_state_dict(torch.load('trad_15epoch.pth'))\n",
    "# model.eval()"
   ]
  },
  {
   "cell_type": "markdown",
   "metadata": {
    "id": "VcTGwot8miAp"
   },
   "source": [
    "## Graph loss and train/val accuracies"
   ]
  },
  {
   "cell_type": "code",
   "execution_count": null,
   "metadata": {
    "colab": {
     "base_uri": "https://localhost:8080/",
     "height": 585
    },
    "executionInfo": {
     "elapsed": 646,
     "status": "ok",
     "timestamp": 1646116008638,
     "user": {
      "displayName": "James Soole",
      "photoUrl": "https://lh3.googleusercontent.com/a/default-user=s64",
      "userId": "17919864173535766160"
     },
     "user_tz": 360
    },
    "id": "WQgKkK6BmiAq",
    "outputId": "a7260291-6f10-4131-eed6-56d25e4871ea",
    "scrolled": false
   },
   "outputs": [],
   "source": [
    "print('train_accuracy[-1]:',train_accuracy[-1])\n",
    "print('val_accuracy[-1]:  ',val_accuracy[-1])\n",
    "\n",
    "# Plot the loss function and train / validation accuracies\n",
    "plt.subplot(2, 1, 1)\n",
    "plt.plot(train_loss)\n",
    "plt.title('Loss history')\n",
    "plt.xlabel('Epoch')\n",
    "plt.ylabel('Loss')\n",
    "\n",
    "plt.subplot(2, 1, 2)\n",
    "plt.plot(train_accuracy, label='train')\n",
    "plt.plot(val_accuracy, label='val')\n",
    "plt.title('Classification accuracy history')\n",
    "plt.xlabel('Epoch')\n",
    "plt.ylabel('Classification accuracy')\n",
    "plt.legend()\n",
    "\n",
    "plt.tight_layout()\n",
    "# plt.savefig('loss_acc_trad_40epoch.jpg',dpi=200)\n",
    "# plt.savefig('loss_acc_sift_1chann_40epoch.jpg',dpi=200)\n",
    "# plt.savefig('also_imsure_loss_acc_sift_1chann_40epoch.jpg',dpi=200)\n",
    "# plt.savefig('loss_acc_trad_1chann_40epoch.jpg',dpi=200)\n",
    "# plt.savefig('loss_acc_trad_40epoch.jpg',dpi=200)\n",
    "# plt.savefig('loss_acc_sift_5chann_2epoch.jpg',dpi=200)\n",
    "# plt.savefig('tmp.jpg',dpi=200)\n",
    "# plt.savefig('loss_acc_trad_3chann_40epoch.jpg',dpi=200)\n",
    "plt.show()"
   ]
  },
  {
   "cell_type": "code",
   "execution_count": null,
   "metadata": {},
   "outputs": [],
   "source": [
    "print(train_loss)\n",
    "print(train_accuracy)"
   ]
  },
  {
   "cell_type": "code",
   "execution_count": null,
   "metadata": {},
   "outputs": [],
   "source": [
    "# times\n",
    "\n",
    "# 1 channel trad 15 epoch: \n",
    "# val_accuracy[-1]:   0.7578\n",
    "# Time: 246.05917811393738\n",
    "# notes - plateaus\n",
    "\n",
    "# 1 channel trad 40 epoch: \n",
    "# val_accuracy[-1]:   0.7627\n",
    "# Time: 623.3182244300842\n",
    "# notes - plateaus around 15\n",
    "    \n",
    "# 1 channel sift 15 epoch:\n",
    "# val_accuracy[-1]:   0.3786\n",
    "# Time: 270.07587790489197\n",
    "# notes: acc increasing, hasnt plateaud yet\n",
    "\n",
    "# 1 channel sift 40 epoch:\n",
    "# val_accuracy[-1]:   0.3399\n",
    "# Time: 731.0357148647308\n",
    "# notes: plateaud around 20epochs\n",
    "\n",
    "\n",
    "# trad 10 epoch\n",
    "# Time: 1354.1624858379364\n",
    "# trad 40 epoch\n",
    "# Time: 3004.8904523849487\n",
    "\n",
    "\n",
    "# sift 3 channel 40epoch\n",
    "# Time: 1376.0771219730377"
   ]
  },
  {
   "cell_type": "markdown",
   "metadata": {
    "id": "iopGB-I0miAs"
   },
   "source": [
    "## Run on Test Set, Visualize Features\n"
   ]
  },
  {
   "cell_type": "code",
   "execution_count": 15,
   "metadata": {},
   "outputs": [],
   "source": [
    "from sklearn.manifold import TSNE"
   ]
  },
  {
   "cell_type": "code",
   "execution_count": 16,
   "metadata": {},
   "outputs": [],
   "source": [
    "# # TSNE\n",
    "# https://www.jmlr.org/papers/volume9/vandermaaten08a/vandermaaten08a.pdf\n",
    "# https://builtin.com/data-science/tsne-python"
   ]
  },
  {
   "cell_type": "code",
   "execution_count": 17,
   "metadata": {
    "scrolled": true
   },
   "outputs": [
    {
     "name": "stdout",
     "output_type": "stream",
     "text": [
      "Accuracy: 0.1027\n",
      "torch.Size([10000, 128])\n"
     ]
    }
   ],
   "source": [
    "# # run test set\n",
    "# out = net(X_test)\n",
    "# pred = np.argmax(out.detach().numpy(),axis=1)\n",
    "# print('Accuracy:', sum(pred == np.asarray(y_test)) / len(y_test) )\n",
    "# labels = y_test\n",
    "\n",
    "\n",
    "# run on train set\n",
    "# will have overfitting, but maybe more dense visualizations\n",
    "data_in = torch.tensor(X_train, dtype=torch.float32)[:10_000] # idk\n",
    "out = net(data_in)\n",
    "pred = np.argmax(out.detach().numpy(),axis=1)\n",
    "print('Accuracy:', sum(pred == np.asarray(y_test)) / len(y_test) )\n",
    "labels = y_train[:10_000]\n",
    "\n",
    "\n",
    "# look at output of layer\n",
    "data = activation['pre_fc']\n",
    "\n",
    "print(data.shape)\n",
    "# print(data[0])"
   ]
  },
  {
   "cell_type": "code",
   "execution_count": 18,
   "metadata": {},
   "outputs": [
    {
     "name": "stdout",
     "output_type": "stream",
     "text": [
      "torch.Size([3000, 128]) (3000,)\n"
     ]
    }
   ],
   "source": [
    "# choose random subset of points to visualize\n",
    "num_data_vis = 3000 # 50 #10\n",
    "np.random.seed(42) # For reproducability\n",
    "\n",
    "rndperm = np.random.permutation(data.shape[0])[:num_data_vis]\n",
    "\n",
    "data_sel = data[rndperm, :].reshape(num_data_vis,-1)\n",
    "labels_sel = labels[rndperm]\n",
    "\n",
    "print(data_sel.shape, labels_sel.shape)"
   ]
  },
  {
   "cell_type": "code",
   "execution_count": 19,
   "metadata": {
    "scrolled": false
   },
   "outputs": [
    {
     "name": "stdout",
     "output_type": "stream",
     "text": [
      "[t-SNE] Computing 46 nearest neighbors...\n",
      "[t-SNE] Indexed 3000 samples in 0.001s...\n"
     ]
    },
    {
     "name": "stderr",
     "output_type": "stream",
     "text": [
      "/home/james/.local/lib/python3.8/site-packages/sklearn/manifold/_t_sne.py:800: FutureWarning: The default initialization in TSNE will change from 'random' to 'pca' in 1.2.\n",
      "  warnings.warn(\n",
      "/home/james/.local/lib/python3.8/site-packages/sklearn/manifold/_t_sne.py:810: FutureWarning: The default learning rate in TSNE will change from 200.0 to 'auto' in 1.2.\n",
      "  warnings.warn(\n"
     ]
    },
    {
     "name": "stdout",
     "output_type": "stream",
     "text": [
      "[t-SNE] Computed neighbors for 3000 samples in 0.505s...\n",
      "[t-SNE] Computed conditional probabilities for sample 1000 / 3000\n",
      "[t-SNE] Computed conditional probabilities for sample 2000 / 3000\n",
      "[t-SNE] Computed conditional probabilities for sample 3000 / 3000\n",
      "[t-SNE] Mean sigma: 0.155302\n",
      "[t-SNE] KL divergence after 250 iterations with early exaggeration: 74.397247\n",
      "[t-SNE] KL divergence after 1000 iterations: 1.267242\n",
      "tsne_results.shape (3000, 2)\n",
      "t-SNE done. Time elapsed: 7.867830514907837 seconds\n"
     ]
    }
   ],
   "source": [
    "time_start = time.time()\n",
    "# # could increase perplexity and n_iter\n",
    "# tsne = TSNE(n_components=2, verbose=1, perplexity=15, n_iter=300)\n",
    "tsne = TSNE(n_components=2, verbose=1, perplexity=15, n_iter=1000)\n",
    "\n",
    "\n",
    "tsne_results = tsne.fit_transform(data_sel)\n",
    "print('tsne_results.shape',tsne_results.shape)\n",
    "\n",
    "print('t-SNE done. Time elapsed: {} seconds'.format(time.time()-time_start))\n",
    "# Time::  50: <1, 3000: 2.3sec"
   ]
  },
  {
   "cell_type": "code",
   "execution_count": 20,
   "metadata": {
    "scrolled": false
   },
   "outputs": [
    {
     "name": "stdout",
     "output_type": "stream",
     "text": [
      "[0, 1, 2, 3, 4, 5, 6, 7, 8, 9]\n"
     ]
    },
    {
     "data": {
      "image/png": "[encoded data removed]",
      "text/plain": [
       "<Figure size 720x576 with 1 Axes>"
      ]
     },
     "metadata": {
      "needs_background": "light"
     },
     "output_type": "display_data"
    }
   ],
   "source": [
    "# display results\n",
    "\n",
    "x_plot = tsne_results[:,0]\n",
    "y_plot = tsne_results[:,1]\n",
    "\n",
    "# https://stackoverflow.com/questions/42056713/matplotlib-scatterplot-with-legend\n",
    "unique = list(set(labels_sel))\n",
    "print(unique)\n",
    "colors = [plt.cm.jet(float(i)/max(unique)) for i in unique]\n",
    "for i, u in enumerate(unique):\n",
    "    xi = [x_plot[j] for j  in range(len(x_plot)) if labels_sel[j] == u]\n",
    "    yi = [y_plot[j] for j  in range(len(y_plot)) if labels_sel[j] == u]\n",
    "    plt.scatter(xi, yi, color=colors[i], label=str(u))\n",
    "plt.legend()\n",
    "\n",
    "# plt.savefig('vis_trad_40epoch.jpg',dpi=200) # this\n",
    "\n",
    "\n",
    "# plt.savefig('vis_trad_1chann_15epoch.jpg',dpi=200)\n",
    "# plt.savefig('vis_sift_1chann_15epoch.jpg',dpi=200)\n",
    "# plt.savefig('vis_trad_1chann_40epoch.jpg',dpi=200)\n",
    "# plt.savefig('vis_sift_1chann_40epoch.jpg',dpi=200)\n",
    "# plt.savefig('vis_trad_40epoch.jpg',dpi=200)\n",
    "# plt.savefig('vis_trad_1chann_100complexity_40epoch.jpg',dpi=200)\n",
    "# plt.savefig('vis_sift_1chann_100complexity_40epoch.jpg',dpi=200)\n",
    "# plt.savefig('vis_trad_3chann_40epoch.jpg',dpi=200)\n",
    "# plt.savefig('vis_trad_3chann_100complexity_40epoch.jpg',dpi=200)\n",
    "\n",
    "# plt.savefig('tmp_vis_trad_1chann_15comp_1000iter_40epoch.jpg',dpi=200)\n",
    "# plt.savefig('tmp_vis_trad_3chann_15comp_1000iter_40epoch.jpg',dpi=200)\n",
    "# plt.savefig('tmp_vis_sift_1chann_15comp_1000iter_40epoch.jpg',dpi=200)\n",
    "# plt.savefig('tmp_vis_sift_3chann_15comp_1000iter_40epoch.jpg',dpi=200)"
   ]
  },
  {
   "cell_type": "markdown",
   "metadata": {
    "id": "sDDF9QC6miAt"
   },
   "source": [
    "## Notes"
   ]
  },
  {
   "cell_type": "code",
   "execution_count": 21,
   "metadata": {},
   "outputs": [],
   "source": [
    "# # notes on running sift\n",
    "# from pytorch_sift import SIFTNet\n",
    "\n",
    "# SIFT = SIFTNet(patch_size = patch_size)\n",
    "# SIFT.eval()\n",
    "\n",
    "# # It takes n_patches x 1 x patch_size x patch_size input == standard pytorch batch format\n",
    "# patches = np.ndarray((1, 1, patch_size, patch_size), dtype=np.float32)\n",
    "# patches[0,0,:,:] = patch # set first (only) patch\n",
    "\n",
    "# t = time.time()\n",
    "# with torch.no_grad():\n",
    "#     torch_patches = torch.from_numpy(patches)\n",
    "#     print('torch_patches.shape',torch_patches.shape)\n",
    "#     res = SIFT(torch_patches)\n",
    "#     sift = np.round(512. * res.data.cpu().numpy()).astype(np.int32)\n",
    "# print ('time', time.time() - t)\n",
    "# print('sift.shape',sift.shape)\n",
    "# print (sift)   \n",
    "\n",
    "\n",
    "\n",
    "# SIFT = SIFT.cuda()\n",
    "# with torch.no_grad():\n",
    "#     torch_patches = torch.from_numpy(patches).cuda()\n",
    "#     res = SIFT(torch_patches)\n",
    "#     sift = np.round(512. * res.data.cpu().numpy()).astype(np.int32)\n",
    "# print (sift)   \n",
    "\n"
   ]
  },
  {
   "cell_type": "code",
   "execution_count": 22,
   "metadata": {},
   "outputs": [],
   "source": [
    "# final notes\n",
    "\n",
    "# results:\n",
    "# ran 64 features for traditional - vis dont change much\n",
    "# way too much for the RAM for sift\n",
    "# 64 features, > 1 epoch exceeds RAM for ideal case, both locally and on google colab\n",
    "# biggest num features to run succsessfully is 3\n",
    "# results for trad and sift for 1 faeture map\n",
    "# sift a lot worse, may with more computational power it would be worth it\n",
    "\n",
    "# though, although accuracy is bad, vis shows that SIFT offers some (spatial) cohesion between the different classes\n",
    "# particulary in 1-channel case for classes 1 and 8"
   ]
  }
 ],
 "metadata": {
  "colab": {
   "collapsed_sections": [],
   "name": "neural_network.ipynb",
   "provenance": []
  },
  "kernelspec": {
   "display_name": "Python 3",
   "language": "python",
   "name": "python3"
  },
  "language_info": {
   "codemirror_mode": {
    "name": "ipython",
    "version": 3
   },
   "file_extension": ".py",
   "mimetype": "text/x-python",
   "name": "python",
   "nbconvert_exporter": "python",
   "pygments_lexer": "ipython3",
   "version": "3.8.10"
  }
 },
 "nbformat": 4,
 "nbformat_minor": 1
}
